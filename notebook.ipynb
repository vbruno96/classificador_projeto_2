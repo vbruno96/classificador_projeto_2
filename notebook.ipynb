{
 "cells": [
  {
   "cell_type": "markdown",
   "metadata": {},
   "outputs": [],
   "source": [
    "# Projeto #2 - Classificador supervisionado\n",
    "\n",
    "Antes de começar, leia as [Instruções](https://github.com/thvmm/pos-ds-ia/tree/master/projeto_2#instru%C3%A7%C3%B5es) e os [Critérios de Avaliação](https://github.com/thvmm/pos-ds-ia/tree/master/projeto_2#crit%C3%A9rios-de-avalia%C3%A7%C3%A3o)\n"
   ]
  },
  {
   "cell_type": "markdown",
   "metadata": {},
   "outputs": [],
   "source": [
    "### 1) Qual a base escolhida?"
   ]
  },
  {
   "cell_type": "markdown",
   "metadata": {},
   "outputs": [],
   "source": [
    "*The Labeled Faces in the Wild face recognition dataset*\n",
    "\n",
    "http://vis-www.cs.umass.edu/lfw/\n"
   ]
  },
  {
   "cell_type": "markdown",
   "metadata": {},
   "outputs": [],
   "source": [
    "### 2) **(10%)** Pré-processamento: entendimento do conjunto de dados\n",
    "- Quais são minhas features?\n",
    "- Quais são minhas classes?\n",
    "- Como estão distribuidas minhas classes?\n",
    "- Checagem se os valores estão dentro de um limite permitido ou razoável.\n",
    "- Tratamento de valores ausentes por eliminação ou substituição.\n",
    "- Conversão do tipo de dados.\n"
   ]
  },
  {
   "cell_type": "code",
   "execution_count": 1,
   "metadata": {},
   "outputs": [],
   "source": [
    "#libraries\n",
    "from time import time\n",
    "import logging\n",
    "import matplotlib.pyplot as plt\n",
    "\n",
    "from sklearn.model_selection import train_test_split\n",
    "from sklearn.model_selection import GridSearchCV\n",
    "from sklearn.datasets import fetch_lfw_people\n",
    "from sklearn.metrics import classification_report\n",
    "from sklearn.metrics import confusion_matrix\n",
    "from sklearn.decomposition import PCA\n",
    "from sklearn.svm import SVC\n",
    "from sklearn.pipeline import make_pipeline"
   ]
  },
  {
   "cell_type": "code",
   "execution_count": 2,
   "metadata": {},
   "outputs": [
    {
     "name": "stderr",
     "output_type": "stream",
     "text": "h)\nC:\\Users\\Bruno\\Anaconda3\\lib\\site-packages\\sklearn\\datasets\\lfw.py:193: DeprecationWarning: `imresize` is deprecated!\n`imresize` is deprecated in SciPy 1.0.0, and will be removed in 1.2.0.\nUse ``skimage.transform.resize`` instead.\n  face = imresize(face, resize)\nC:\\Users\\Bruno\\Anaconda3\\lib\\site-packages\\sklearn\\datasets\\lfw.py:184: DeprecationWarning: `imread` is deprecated!\n`imread` is deprecated in SciPy 1.0.0, and will be removed in 1.2.0.\nUse ``imageio.imread`` instead.\n  img = imread(file_path)\nC:\\Users\\Bruno\\Anaconda3\\lib\\site-packages\\sklearn\\datasets\\lfw.py:193: DeprecationWarning: `imresize` is deprecated!\n`imresize` is deprecated in SciPy 1.0.0, and will be removed in 1.2.0.\nUse ``skimage.transform.resize`` instead.\n  face = imresize(face, resize)\nC:\\Users\\Bruno\\Anaconda3\\lib\\site-packages\\sklearn\\datasets\\lfw.py:184: DeprecationWarning: `imread` is deprecated!\n`imread` is deprecated in SciPy 1.0.0, and will be removed in 1.2.0.\nUse ``imageio.imread`` instead.\n  img = imread(file_path)\nC:\\Users\\Bruno\\Anaconda3\\lib\\site-packages\\sklearn\\datasets\\lfw.py:193: DeprecationWarning: `imresize` is deprecated!\n`imresize` is deprecated in SciPy 1.0.0, and will be removed in 1.2.0.\nUse ``skimage.transform.resize`` instead.\n  face = imresize(face, resize)\nC:\\Users\\Bruno\\Anaconda3\\lib\\site-packages\\sklearn\\datasets\\lfw.py:184: DeprecationWarning: `imread` is deprecated!\n`imread` is deprecated in SciPy 1.0.0, and will be removed in 1.2.0.\nUse ``imageio.imread`` instead.\n  img = imread(file_path)\nC:\\Users\\Bruno\\Anaconda3\\lib\\site-packages\\sklearn\\datasets\\lfw.py:193: DeprecationWarning: `imresize` is deprecated!\n`imresize` is deprecated in SciPy 1.0.0, and will be removed in 1.2.0.\nUse ``skimage.transform.resize`` instead.\n  face = imresize(face, resize)\nC:\\Users\\Bruno\\Anaconda3\\lib\\site-packages\\sklearn\\datasets\\lfw.py:184: DeprecationWarning: `imread` is deprecated!\n`imread` is deprecated in SciPy 1.0.0, and will be removed in 1.2.0.\nUse ``imageio.imread`` instead.\n  img = imread(file_path)\nC:\\Users\\Bruno\\Anaconda3\\lib\\site-packages\\sklearn\\datasets\\lfw.py:193: DeprecationWarning: `imresize` is deprecated!\n`imresize` is deprecated in SciPy 1.0.0, and will be removed in 1.2.0.\nUse ``skimage.transform.resize`` instead.\n  face = imresize(face, resize)\nC:\\Users\\Bruno\\Anaconda3\\lib\\site-packages\\sklearn\\datasets\\lfw.py:184: DeprecationWarning: `imread` is deprecated!\n`imread` is deprecated in SciPy 1.0.0, and will be removed in 1.2.0.\nUse ``imageio.imread`` instead.\n  img = imread(file_path)\nC:\\Users\\Bruno\\Anaconda3\\lib\\site-packages\\sklearn\\datasets\\lfw.py:193: DeprecationWarning: `imresize` is deprecated!\n`imresize` is deprecated in SciPy 1.0.0, and will be removed in 1.2.0.\nUse ``skimage.transform.resize`` instead.\n  face = imresize(face, resize)\nC:\\Users\\Bruno\\Anaconda3\\lib\\site-packages\\sklearn\\datasets\\lfw.py:184: DeprecationWarning: `imread` is deprecated!\n`imread` is deprecated in SciPy 1.0.0, and will be removed in 1.2.0.\nUse ``imageio.imread`` instead.\n  img = imread(file_path)\nC:\\Users\\Bruno\\Anaconda3\\lib\\site-packages\\sklearn\\datasets\\lfw.py:193: DeprecationWarning: `imresize` is deprecated!\n`imresize` is deprecated in SciPy 1.0.0, and will be removed in 1.2.0.\nUse ``skimage.transform.resize`` instead.\n  face = imresize(face, resize)\nC:\\Users\\Bruno\\Anaconda3\\lib\\site-packages\\sklearn\\datasets\\lfw.py:184: DeprecationWarning: `imread` is deprecated!\n`imread` is deprecated in SciPy 1.0.0, and will be removed in 1.2.0.\nUse ``imageio.imread`` instead.\n  img = imread(file_path)\nC:\\Users\\Bruno\\Anaconda3\\lib\\site-packages\\sklearn\\datasets\\lfw.py:193: DeprecationWarning: `imresize` is deprecated!\n`imresize` is deprecated in SciPy 1.0.0, and will be removed in 1.2.0.\nUse ``skimage.transform.resize`` instead.\n  face = imresize(face, resize)\nC:\\Users\\Bruno\\Anaconda3\\lib\\site-packages\\sklearn\\datasets\\lfw.py:184: DeprecationWarning: `imread` is deprecated!\n`imread` is deprecated in SciPy 1.0.0, and will be removed in 1.2.0.\nUse ``imageio.imread`` instead.\n  img = imread(file_path)\nC:\\Users\\Bruno\\Anaconda3\\lib\\site-packages\\sklearn\\datasets\\lfw.py:193: DeprecationWarning: `imresize` is deprecated!\n`imresize` is deprecated in SciPy 1.0.0, and will be removed in 1.2.0.\nUse ``skimage.transform.resize`` instead.\n  face = imresize(face, resize)\nC:\\Users\\Bruno\\Anaconda3\\lib\\site-packages\\sklearn\\datasets\\lfw.py:184: DeprecationWarning: `imread` is deprecated!\n`imread` is deprecated in SciPy 1.0.0, and will be removed in 1.2.0.\nUse ``imageio.imread`` instead.\n  img = imread(file_path)\nC:\\Users\\Bruno\\Anaconda3\\lib\\site-packages\\sklearn\\datasets\\lfw.py:193: DeprecationWarning: `imresize` is deprecated!\n`imresize` is deprecated in SciPy 1.0.0, and will be removed in 1.2.0.\nUse ``skimage.transform.resize`` instead.\n  face = imresize(face, resize)\nC:\\Users\\Bruno\\Anaconda3\\lib\\site-packages\\sklearn\\datasets\\lfw.py:184: DeprecationWarning: `imread` is deprecated!\n`imread` is deprecated in SciPy 1.0.0, and will be removed in 1.2.0.\nUse ``imageio.imread`` instead.\n  img = imread(file_path)\nC:\\Users\\Bruno\\Anaconda3\\lib\\site-packages\\sklearn\\datasets\\lfw.py:193: DeprecationWarning: `imresize` is deprecated!\n`imresize` is deprecated in SciPy 1.0.0, and will be removed in 1.2.0.\nUse ``skimage.transform.resize`` instead.\n  face = imresize(face, resize)\nC:\\Users\\Bruno\\Anaconda3\\lib\\site-packages\\sklearn\\datasets\\lfw.py:184: DeprecationWarning: `imread` is deprecated!\n`imread` is deprecated in SciPy 1.0.0, and will be removed in 1.2.0.\nUse ``imageio.imread`` instead.\n  img = imread(file_path)\nC:\\Users\\Bruno\\Anaconda3\\lib\\site-packages\\sklearn\\datasets\\lfw.py:193: DeprecationWarning: `imresize` is deprecated!\n`imresize` is deprecated in SciPy 1.0.0, and will be removed in 1.2.0.\nUse ``skimage.transform.resize`` instead.\n  face = imresize(face, resize)\nC:\\Users\\Bruno\\Anaconda3\\lib\\site-packages\\sklearn\\datasets\\lfw.py:184: DeprecationWarning: `imread` is deprecated!\n`imread` is deprecated in SciPy 1.0.0, and will be removed in 1.2.0.\nUse ``imageio.imread`` instead.\n  img = imread(file_path)\nC:\\Users\\Bruno\\Anaconda3\\lib\\site-packages\\sklearn\\datasets\\lfw.py:193: DeprecationWarning: `imresize` is deprecated!\n`imresize` is deprecated in SciPy 1.0.0, and will be removed in 1.2.0.\nUse ``skimage.transform.resize`` instead.\n  face = imresize(face, resize)\nC:\\Users\\Bruno\\Anaconda3\\lib\\site-packages\\sklearn\\datasets\\lfw.py:184: DeprecationWarning: `imread` is deprecated!\n`imread` is deprecated in SciPy 1.0.0, and will be removed in 1.2.0.\nUse ``imageio.imread`` instead.\n  img = imread(file_path)\nC:\\Users\\Bruno\\Anaconda3\\lib\\site-packages\\sklearn\\datasets\\lfw.py:193: DeprecationWarning: `imresize` is deprecated!\n`imresize` is deprecated in SciPy 1.0.0, and will be removed in 1.2.0.\nUse ``skimage.transform.resize`` instead.\n  face = imresize(face, resize)\nC:\\Users\\Bruno\\Anaconda3\\lib\\site-packages\\sklearn\\datasets\\lfw.py:184: DeprecationWarning: `imread` is deprecated!\n`imread` is deprecated in SciPy 1.0.0, and will be removed in 1.2.0.\nUse ``imageio.imread`` instead.\n  img = imread(file_path)\nC:\\Users\\Bruno\\Anaconda3\\lib\\site-packages\\sklearn\\datasets\\lfw.py:193: DeprecationWarning: `imresize` is deprecated!\n`imresize` is deprecated in SciPy 1.0.0, and will be removed in 1.2.0.\nUse ``skimage.transform.resize`` instead.\n  face = imresize(face, resize)\nC:\\Users\\Bruno\\Anaconda3\\lib\\site-packages\\sklearn\\datasets\\lfw.py:184: DeprecationWarning: `imread` is deprecated!\n`imread` is deprecated in SciPy 1.0.0, and will be removed in 1.2.0.\nUse ``imageio.imread`` instead.\n  img = imread(file_path)\nC:\\Users\\Bruno\\Anaconda3\\lib\\site-packages\\sklearn\\datasets\\lfw.py:193: DeprecationWarning: `imresize` is deprecated!\n`imresize` is deprecated in SciPy 1.0.0, and will be removed in 1.2.0.\nUse ``skimage.transform.resize`` instead.\n  face = imresize(face, resize)\nC:\\Users\\Bruno\\Anaconda3\\lib\\site-packages\\sklearn\\datasets\\lfw.py:184: DeprecationWarning: `imread` is deprecated!\n`imread` is deprecated in SciPy 1.0.0, and will be removed in 1.2.0.\nUse ``imageio.imread`` instead.\n  img = imread(file_path)\nC:\\Users\\Bruno\\Anaconda3\\lib\\site-packages\\sklearn\\datasets\\lfw.py:193: DeprecationWarning: `imresize` is deprecated!\n`imresize` is deprecated in SciPy 1.0.0, and will be removed in 1.2.0.\nUse ``skimage.transform.resize`` instead.\n  face = imresize(face, resize)\nC:\\Users\\Bruno\\Anaconda3\\lib\\site-packages\\sklearn\\datasets\\lfw.py:184: DeprecationWarning: `imread` is deprecated!\n`imread` is deprecated in SciPy 1.0.0, and will be removed in 1.2.0.\nUse ``imageio.imread`` instead.\n  img = imread(file_path)\nC:\\Users\\Bruno\\Anaconda3\\lib\\site-packages\\sklearn\\datasets\\lfw.py:193: DeprecationWarning: `imresize` is deprecated!\n`imresize` is deprecated in SciPy 1.0.0, and will be removed in 1.2.0.\nUse ``skimage.transform.resize`` instead.\n  face = imresize(face, resize)\nC:\\Users\\Bruno\\Anaconda3\\lib\\site-packages\\sklearn\\datasets\\lfw.py:184: DeprecationWarning: `imread` is deprecated!\n`imread` is deprecated in SciPy 1.0.0, and will be removed in 1.2.0.\nUse ``imageio.imread`` instead.\n  img = imread(file_path)\nC:\\Users\\Bruno\\Anaconda3\\lib\\site-packages\\sklearn\\datasets\\lfw.py:193: DeprecationWarning: `imresize` is deprecated!\n`imresize` is deprecated in SciPy 1.0.0, and will be removed in 1.2.0.\nUse ``skimage.transform.resize`` instead.\n  face = imresize(face, resize)\nC:\\Users\\Bruno\\Anaconda3\\lib\\site-packages\\sklearn\\datasets\\lfw.py:184: DeprecationWarning: `imread` is deprecated!\n`imread` is deprecated in SciPy 1.0.0, and will be removed in 1.2.0.\nUse ``imageio.imread`` instead.\n  img = imread(file_path)\nC:\\Users\\Bruno\\Anaconda3\\lib\\site-packages\\sklearn\\datasets\\lfw.py:193: DeprecationWarning: `imresize` is deprecated!\n`imresize` is deprecated in SciPy 1.0.0, and will be removed in 1.2.0.\nUse ``skimage.transform.resize`` instead.\n  face = imresize(face, resize)\nC:\\Users\\Bruno\\Anaconda3\\lib\\site-packages\\sklearn\\datasets\\lfw.py:184: DeprecationWarning: `imread` is deprecated!\n`imread` is deprecated in SciPy 1.0.0, and will be removed in 1.2.0.\nUse ``imageio.imread`` instead.\n  img = imread(file_path)\nC:\\Users\\Bruno\\Anaconda3\\lib\\site-packages\\sklearn\\datasets\\lfw.py:193: DeprecationWarning: `imresize` is deprecated!\n`imresize` is deprecated in SciPy 1.0.0, and will be removed in 1.2.0.\nUse ``skimage.transform.resize`` instead.\n  face = imresize(face, resize)\nC:\\Users\\Bruno\\Anaconda3\\lib\\site-packages\\sklearn\\datasets\\lfw.py:184: DeprecationWarning: `imread` is deprecated!\n`imread` is deprecated in SciPy 1.0.0, and will be removed in 1.2.0.\nUse ``imageio.imread`` instead.\n  img = imread(file_path)\nC:\\Users\\Bruno\\Anaconda3\\lib\\site-packages\\sklearn\\datasets\\lfw.py:193: DeprecationWarning: `imresize` is deprecated!\n`imresize` is deprecated in SciPy 1.0.0, and will be removed in 1.2.0.\nUse ``skimage.transform.resize`` instead.\n  face = imresize(face, resize)\nC:\\Users\\Bruno\\Anaconda3\\lib\\site-packages\\sklearn\\datasets\\lfw.py:184: DeprecationWarning: `imread` is deprecated!\n`imread` is deprecated in SciPy 1.0.0, and will be removed in 1.2.0.\nUse ``imageio.imread`` instead.\n  img = imread(file_path)\nC:\\Users\\Bruno\\Anaconda3\\lib\\site-packages\\sklearn\\datasets\\lfw.py:193: DeprecationWarning: `imresize` is deprecated!\n`imresize` is deprecated in SciPy 1.0.0, and will be removed in 1.2.0.\nUse ``skimage.transform.resize`` instead.\n  face = imresize(face, resize)\nC:\\Users\\Bruno\\Anaconda3\\lib\\site-packages\\sklearn\\datasets\\lfw.py:184: DeprecationWarning: `imread` is deprecated!\n`imread` is deprecated in SciPy 1.0.0, and will be removed in 1.2.0.\nUse ``imageio.imread`` instead.\n  img = imread(file_path)\nC:\\Users\\Bruno\\Anaconda3\\lib\\site-packages\\sklearn\\datasets\\lfw.py:193: DeprecationWarning: `imresize` is deprecated!\n`imresize` is deprecated in SciPy 1.0.0, and will be removed in 1.2.0.\nUse ``skimage.transform.resize`` instead.\n  face = imresize(face, resize)\nC:\\Users\\Bruno\\Anaconda3\\lib\\site-packages\\sklearn\\datasets\\lfw.py:184: DeprecationWarning: `imread` is deprecated!\n`imread` is deprecated in SciPy 1.0.0, and will be removed in 1.2.0.\nUse ``imageio.imread`` instead.\n  img = imread(file_path)\nC:\\Users\\Bruno\\Anaconda3\\lib\\site-packages\\sklearn\\datasets\\lfw.py:193: DeprecationWarning: `imresize` is deprecated!\n`imresize` is deprecated in SciPy 1.0.0, and will be removed in 1.2.0.\nUse ``skimage.transform.resize`` instead.\n  face = imresize(face, resize)\nC:\\Users\\Bruno\\Anaconda3\\lib\\site-packages\\sklearn\\datasets\\lfw.py:184: DeprecationWarning: `imread` is deprecated!\n`imread` is deprecated in SciPy 1.0.0, and will be removed in 1.2.0.\nUse ``imageio.imread`` instead.\n  img = imread(file_path)\nC:\\Users\\Bruno\\Anaconda3\\lib\\site-packages\\sklearn\\datasets\\lfw.py:193: DeprecationWarning: `imresize` is deprecated!\n`imresize` is deprecated in SciPy 1.0.0, and will be removed in 1.2.0.\nUse ``skimage.transform.resize`` instead.\n  face = imresize(face, resize)\nC:\\Users\\Bruno\\Anaconda3\\lib\\site-packages\\sklearn\\datasets\\lfw.py:184: DeprecationWarning: `imread` is deprecated!\n`imread` is deprecated in SciPy 1.0.0, and will be removed in 1.2.0.\nUse ``imageio.imread`` instead.\n  img = imread(file_path)\nC:\\Users\\Bruno\\Anaconda3\\lib\\site-packages\\sklearn\\datasets\\lfw.py:193: DeprecationWarning: `imresize` is deprecated!\n`imresize` is deprecated in SciPy 1.0.0, and will be removed in 1.2.0.\nUse ``skimage.transform.resize`` instead.\n  face = imresize(face, resize)\nC:\\Users\\Bruno\\Anaconda3\\lib\\site-packages\\sklearn\\datasets\\lfw.py:184: DeprecationWarning: `imread` is deprecated!\n`imread` is deprecated in SciPy 1.0.0, and will be removed in 1.2.0.\nUse ``imageio.imread`` instead.\n  img = imread(file_path)\nC:\\Users\\Bruno\\Anaconda3\\lib\\site-packages\\sklearn\\datasets\\lfw.py:193: DeprecationWarning: `imresize` is deprecated!\n`imresize` is deprecated in SciPy 1.0.0, and will be removed in 1.2.0.\nUse ``skimage.transform.resize`` instead.\n  face = imresize(face, resize)\nC:\\Users\\Bruno\\Anaconda3\\lib\\site-packages\\sklearn\\datasets\\lfw.py:184: DeprecationWarning: `imread` is deprecated!\n`imread` is deprecated in SciPy 1.0.0, and will be removed in 1.2.0.\nUse ``imageio.imread`` instead.\n  img = imread(file_path)\nC:\\Users\\Bruno\\Anaconda3\\lib\\site-packages\\sklearn\\datasets\\lfw.py:193: DeprecationWarning: `imresize` is deprecated!\n`imresize` is deprecated in SciPy 1.0.0, and will be removed in 1.2.0.\nUse ``skimage.transform.resize`` instead.\n  face = imresize(face, resize)\nC:\\Users\\Bruno\\Anaconda3\\lib\\site-packages\\sklearn\\datasets\\lfw.py:184: DeprecationWarning: `imread` is deprecated!\n`imread` is deprecated in SciPy 1.0.0, and will be removed in 1.2.0.\nUse ``imageio.imread`` instead.\n  img = imread(file_path)\nC:\\Users\\Bruno\\Anaconda3\\lib\\site-packages\\sklearn\\datasets\\lfw.py:193: DeprecationWarning: `imresize` is deprecated!\n`imresize` is deprecated in SciPy 1.0.0, and will be removed in 1.2.0.\nUse ``skimage.transform.resize`` instead.\n  face = imresize(face, resize)\nC:\\Users\\Bruno\\Anaconda3\\lib\\site-packages\\sklearn\\datasets\\lfw.py:184: DeprecationWarning: `imread` is deprecated!\n`imread` is deprecated in SciPy 1.0.0, and will be removed in 1.2.0.\nUse ``imageio.imread`` instead.\n  img = imread(file_path)\nC:\\Users\\Bruno\\Anaconda3\\lib\\site-packages\\sklearn\\datasets\\lfw.py:193: DeprecationWarning: `imresize` is deprecated!\n`imresize` is deprecated in SciPy 1.0.0, and will be removed in 1.2.0.\nUse ``skimage.transform.resize`` instead.\n  face = imresize(face, resize)\nC:\\Users\\Bruno\\Anaconda3\\lib\\site-packages\\sklearn\\datasets\\lfw.py:184: DeprecationWarning: `imread` is deprecated!\n`imread` is deprecated in SciPy 1.0.0, and will be removed in 1.2.0.\nUse ``imageio.imread`` instead.\n  img = imread(file_path)\nC:\\Users\\Bruno\\Anaconda3\\lib\\site-packages\\sklearn\\datasets\\lfw.py:193: DeprecationWarning: `imresize` is deprecated!\n`imresize` is deprecated in SciPy 1.0.0, and will be removed in 1.2.0.\nUse ``skimage.transform.resize`` instead.\n  face = imresize(face, resize)\nC:\\Users\\Bruno\\Anaconda3\\lib\\site-packages\\sklearn\\datasets\\lfw.py:184: DeprecationWarning: `imread` is deprecated!\n`imread` is deprecated in SciPy 1.0.0, and will be removed in 1.2.0.\nUse ``imageio.imread`` instead.\n  img = imread(file_path)\nC:\\Users\\Bruno\\Anaconda3\\lib\\site-packages\\sklearn\\datasets\\lfw.py:193: DeprecationWarning: `imresize` is deprecated!\n`imresize` is deprecated in SciPy 1.0.0, and will be removed in 1.2.0.\nUse ``skimage.transform.resize`` instead.\n  face = imresize(face, resize)\nC:\\Users\\Bruno\\Anaconda3\\lib\\site-packages\\sklearn\\datasets\\lfw.py:184: DeprecationWarning: `imread` is deprecated!\n`imread` is deprecated in SciPy 1.0.0, and will be removed in 1.2.0.\nUse ``imageio.imread`` instead.\n  img = imread(file_path)\nC:\\Users\\Bruno\\Anaconda3\\lib\\site-packages\\sklearn\\datasets\\lfw.py:193: DeprecationWarning: `imresize` is deprecated!\n`imresize` is deprecated in SciPy 1.0.0, and will be removed in 1.2.0.\nUse ``skimage.transform.resize`` instead.\n  face = imresize(face, resize)\nC:\\Users\\Bruno\\Anaconda3\\lib\\site-packages\\sklearn\\datasets\\lfw.py:184: DeprecationWarning: `imread` is deprecated!\n`imread` is deprecated in SciPy 1.0.0, and will be removed in 1.2.0.\nUse ``imageio.imread`` instead.\n  img = imread(file_path)\nC:\\Users\\Bruno\\Anaconda3\\lib\\site-packages\\sklearn\\datasets\\lfw.py:193: DeprecationWarning: `imresize` is deprecated!\n`imresize` is deprecated in SciPy 1.0.0, and will be removed in 1.2.0.\nUse ``skimage.transform.resize`` instead.\n  face = imresize(face, resize)\nC:\\Users\\Bruno\\Anaconda3\\lib\\site-packages\\sklearn\\datasets\\lfw.py:184: DeprecationWarning: `imread` is deprecated!\n`imread` is deprecated in SciPy 1.0.0, and will be removed in 1.2.0.\nUse ``imageio.imread`` instead.\n  img = imread(file_path)\nC:\\Users\\Bruno\\Anaconda3\\lib\\site-packages\\sklearn\\datasets\\lfw.py:193: DeprecationWarning: `imresize` is deprecated!\n`imresize` is deprecated in SciPy 1.0.0, and will be removed in 1.2.0.\nUse ``skimage.transform.resize`` instead.\n  face = imresize(face, resize)\nC:\\Users\\Bruno\\Anaconda3\\lib\\site-packages\\sklearn\\datasets\\lfw.py:184: DeprecationWarning: `imread` is deprecated!\n`imread` is deprecated in SciPy 1.0.0, and will be removed in 1.2.0.\nUse ``imageio.imread`` instead.\n  img = imread(file_path)\nC:\\Users\\Bruno\\Anaconda3\\lib\\site-packages\\sklearn\\datasets\\lfw.py:193: DeprecationWarning: `imresize` is deprecated!\n`imresize` is deprecated in SciPy 1.0.0, and will be removed in 1.2.0.\nUse ``skimage.transform.resize`` instead.\n  face = imresize(face, resize)\nC:\\Users\\Bruno\\Anaconda3\\lib\\site-packages\\sklearn\\datasets\\lfw.py:184: DeprecationWarning: `imread` is deprecated!\n`imread` is deprecated in SciPy 1.0.0, and will be removed in 1.2.0.\nUse ``imageio.imread`` instead.\n  img = imread(file_path)\nC:\\Users\\Bruno\\Anaconda3\\lib\\site-packages\\sklearn\\datasets\\lfw.py:193: DeprecationWarning: `imresize` is deprecated!\n`imresize` is deprecated in SciPy 1.0.0, and will be removed in 1.2.0.\nUse ``skimage.transform.resize`` instead.\n  face = imresize(face, resize)\nC:\\Users\\Bruno\\Anaconda3\\lib\\site-packages\\sklearn\\datasets\\lfw.py:184: DeprecationWarning: `imread` is deprecated!\n`imread` is deprecated in SciPy 1.0.0, and will be removed in 1.2.0.\nUse ``imageio.imread`` instead.\n  img = imread(file_path)\nC:\\Users\\Bruno\\Anaconda3\\lib\\site-packages\\sklearn\\datasets\\lfw.py:193: DeprecationWarning: `imresize` is deprecated!\n`imresize` is deprecated in SciPy 1.0.0, and will be removed in 1.2.0.\nUse ``skimage.transform.resize`` instead.\n  face = imresize(face, resize)\nC:\\Users\\Bruno\\Anaconda3\\lib\\site-packages\\sklearn\\datasets\\lfw.py:184: DeprecationWarning: `imread` is deprecated!\n`imread` is deprecated in SciPy 1.0.0, and will be removed in 1.2.0.\nUse ``imageio.imread`` instead.\n  img = imread(file_path)\nC:\\Users\\Bruno\\Anaconda3\\lib\\site-packages\\sklearn\\datasets\\lfw.py:193: DeprecationWarning: `imresize` is deprecated!\n`imresize` is deprecated in SciPy 1.0.0, and will be removed in 1.2.0.\nUse ``skimage.transform.resize`` instead.\n  face = imresize(face, resize)\n"
    }
   ],
   "source": [
    "#import dataset\n",
    "faces = fetch_lfw_people(min_faces_per_person=100)"
   ]
  },
  {
   "cell_type": "code",
   "execution_count": 6,
   "metadata": {},
   "outputs": [
    {
     "name": "stdout",
     "output_type": "stream",
     "text": "[[ 82.666664  87.666664  65.333336 ... 106.       140.       199.33333 ]\n [ 52.333332  49.333332  69.333336 ... 235.66667  228.66667  222.      ]\n [ 37.333332  39.        41.666668 ...  97.        71.666664  59.333332]\n ...\n [228.33333  224.33333  216.       ... 149.66667  145.66667  164.66667 ]\n [ 97.666664 118.333336 133.33333  ... 219.       210.       142.      ]\n [ 39.333332  79.333336 109.333336 ...  24.333334  34.333332  24.      ]]\n"
    },
    {
     "data": {
      "text/plain": "2914"
     },
     "execution_count": 6,
     "metadata": {},
     "output_type": "execute_result"
    }
   ],
   "source": [
    "#Features\n",
    "print(faces.data)\n",
    "faces.data.shape[1]"
   ]
  },
  {
   "cell_type": "code",
   "execution_count": 10,
   "metadata": {},
   "outputs": [
    {
     "name": "stdout",
     "output_type": "stream",
     "text": "['Colin Powell' 'Donald Rumsfeld' 'George W Bush' 'Gerhard Schroeder'\n 'Tony Blair']\n"
    },
    {
     "data": {
      "text/plain": "5"
     },
     "execution_count": 10,
     "metadata": {},
     "output_type": "execute_result"
    }
   ],
   "source": [
    "#Classes\n",
    "print(faces.target_names)\n",
    "faces.target_names.shape[0]"
   ]
  },
  {
   "cell_type": "markdown",
   "metadata": {},
   "outputs": [],
   "source": [
    "### 3) **(80%)** Nos blocos seguintes implemente seus classificadores (serão implementados 2 métodos diferentes)."
   ]
  },
  {
   "cell_type": "markdown",
   "metadata": {},
   "outputs": [],
   "source": [
    "#### 3.1) Qual método escolhido?"
   ]
  },
  {
   "cell_type": "markdown",
   "execution_count": 8,
   "metadata": {},
   "outputs": [],
   "source": [
    "*Indique o método escolhido*"
   ]
  },
  {
   "cell_type": "markdown",
   "metadata": {},
   "outputs": [],
   "source": [
    "#### 3.2) **(10%)** Baseline - Implemente seu classificador da forma mais simples possível para esse ser seu baseline"
   ]
  },
  {
   "cell_type": "code",
   "execution_count": 3,
   "metadata": {},
   "outputs": [],
   "source": [
    "# Implementação. Use mais blocos se achar que ficará mais organizado."
   ]
  },
  {
   "cell_type": "markdown",
   "execution_count": null,
   "metadata": {},
   "outputs": [],
   "source": [
    "#### 3.3) **(20%)** Versão 1 - O que podemos fazer para melhorar nosso baseline? Aplique técnicas como redução de dimensionalidade, normalização ou outras. Compare os resultados."
   ]
  },
  {
   "cell_type": "code",
   "execution_count": null,
   "metadata": {},
   "outputs": [],
   "source": [
    "# Implementação. Use mais blocos se achar que ficará mais organizado."
   ]
  },
  {
   "cell_type": "markdown",
   "execution_count": null,
   "metadata": {},
   "outputs": [],
   "source": [
    "#### 3.4) **(10%)** Tunning - Agora que temos um resultado promissor, vamos tentar melhorar o resultado alterando um ou mais hiper-parametro. Compare os resultados."
   ]
  },
  {
   "cell_type": "code",
   "execution_count": null,
   "metadata": {},
   "outputs": [],
   "source": [
    "# Implementação. Use mais blocos se achar que ficará mais organizado."
   ]
  },
  {
   "cell_type": "markdown",
   "execution_count": null,
   "metadata": {},
   "outputs": [],
   "source": [
    "#### 3.5) Qual método escolhido?"
   ]
  },
  {
   "cell_type": "markdown",
   "execution_count": null,
   "metadata": {},
   "outputs": [],
   "source": [
    "Indique o método escolhido"
   ]
  },
  {
   "cell_type": "markdown",
   "execution_count": null,
   "metadata": {},
   "outputs": [],
   "source": [
    "#### 3.6) **(10%)** Baseline - Implemente seu classificador da forma mais simples possível para esse ser seu baseline"
   ]
  },
  {
   "cell_type": "code",
   "execution_count": null,
   "metadata": {},
   "outputs": [],
   "source": [
    "# Implementação. Use mais blocos se achar que ficará mais organizado."
   ]
  },
  {
   "cell_type": "markdown",
   "execution_count": null,
   "metadata": {},
   "outputs": [],
   "source": [
    "#### 3.7) **(20%)** Versão 1 - O que podemos fazer para melhorar nosso baseline? Aplique técnicas como redução de dimensionalidade, normalização ou outras. Compare os resultados."
   ]
  },
  {
   "cell_type": "code",
   "execution_count": null,
   "metadata": {},
   "outputs": [],
   "source": [
    "# Implementação. Use mais blocos se achar que ficará mais organizado."
   ]
  },
  {
   "cell_type": "markdown",
   "execution_count": null,
   "metadata": {},
   "outputs": [],
   "source": [
    "#### 3.8) **(10%)** Tunning - Agora que temos um resultado promissor, vamos tentar melhorar o resultado alterando um ou mais hiper-parametro. Compare os resultados."
   ]
  },
  {
   "cell_type": "code",
   "execution_count": null,
   "metadata": {},
   "outputs": [],
   "source": [
    "# Implementação. Use mais blocos se achar que ficará mais organizado."
   ]
  },
  {
   "cell_type": "markdown",
   "metadata": {},
   "outputs": [],
   "source": [
    "### 5) **(10%)** Conclusões"
   ]
  },
  {
   "cell_type": "markdown",
   "metadata": {},
   "outputs": [],
   "source": [
    "*Compare seus resultados. Imaginando que sua solução fosse para produção, qual deles você escolheria? Por que? Quais os riscos você enxerga? O que recomendaria de próximos passos para melhorar os resultados?*"
   ]
  },
  {
   "cell_type": "markdown",
   "metadata": {},
   "outputs": [],
   "source": []
  }
 ],
 "metadata": {
  "file_extension": ".py",
  "kernelspec": {
   "display_name": "Python 3",
   "language": "python",
   "name": "python3"
  },
  "language_info": {
   "codemirror_mode": {
    "name": "ipython",
    "version": 3
   },
   "file_extension": ".py",
   "mimetype": "text/x-python",
   "name": "python",
   "nbconvert_exporter": "python",
   "pygments_lexer": "ipython3",
   "version": "3.7.4-final"
  },
  "mimetype": "text/x-python",
  "name": "python",
  "npconvert_exporter": "python",
  "pygments_lexer": "ipython3",
  "version": 3
 },
 "nbformat": 4,
 "nbformat_minor": 2
}